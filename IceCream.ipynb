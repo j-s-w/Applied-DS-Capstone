{
 "cells": [
  {
   "cell_type": "markdown",
   "metadata": {},
   "source": [
    "# Ice Cream\n",
    "\n",
    "## Weather, wealth, and ice cream\n",
    "\n",
    "### Question to be answered\n",
    "\n",
    "*The question is: Where should I locate my new ice cream shop?*\n",
    "\n",
    "Taking into account available resources, constraints, and business considerations, this can be refined into two research questions:\n",
    "\n",
    "* Which zip codes in New York, Chicago, Houston, and Miami are under/over served by ice cream stores?\n",
    "\n",
    "* Which is the strongest predictor of ice cream store density, population density, household income or weather?\n",
    "\n"
   ]
  },
  {
   "cell_type": "markdown",
   "metadata": {},
   "source": [
    "### Data sources\n",
    "\n",
    "| Information Needed | Data Source | Method\n",
    "| --- | --- | --- |\n",
    "| Zip codes | zip-codes.com | Search by city, extract zip codes\n",
    "| Ice cream shops | Foursquare | Venue query on ice cream, extract zip code\n",
    "| Weather | Dark Sky | \"Time machine\" request to get past temperatures\n",
    "| Income | WolframAlpha | Zip code search, extract median household income\n",
    "| Demographic data | WolframAlpha | Population and area per zip code for normalization\n",
    "| Geo data | US Census/TigerLine  | Need to associate zip code with longitude and latitude\n",
    "\n",
    "#### Methodology\n",
    "Gather data\n",
    "1. Create a table with zip codes for neighborhoods in Chicago, Houston, Miami, New York\n",
    "2. Count number of ice cream shops in each zip code\n",
    "3. Find typical weather for each zip code\n",
    "4. Find income for each zip code\n",
    "5. Find population for each zip code\n",
    "6. Find area covered by each zip code\n",
    "\n",
    "Explore data\n",
    "1. What is the relationship between weather and ice cream shop density (intra/inter city)\n",
    "2. What is the relationship between population and ice cream shop density (intra/inter city)\n",
    "3. What is the relationship between income and ice cream shop density (intra/inter city)\n",
    "\n",
    "Identify correlations\n",
    "1. Which variable has the strongest explanitory power\n",
    "\n",
    "Identify under served neighborhood\n",
    "1. Which neighborhoods in each city are under-served by ice cream in nominal terms\n",
    "2. Which neighborhoods in each city are under-served by ice cream relative to modelled outcomes\n",
    "\n",
    "Conclusion\n",
    "1. Suggest locations for a new ice cream shop\n",
    "\n"
   ]
  },
  {
   "cell_type": "code",
   "execution_count": null,
   "metadata": {},
   "outputs": [],
   "source": []
  }
 ],
 "metadata": {
  "kernelspec": {
   "display_name": "Python",
   "language": "python",
   "name": "conda-env-python-py"
  },
  "language_info": {
   "codemirror_mode": {
    "name": "ipython",
    "version": 3
   },
   "file_extension": ".py",
   "mimetype": "text/x-python",
   "name": "python",
   "nbconvert_exporter": "python",
   "pygments_lexer": "ipython3",
   "version": "3.6.11"
  }
 },
 "nbformat": 4,
 "nbformat_minor": 4
}
